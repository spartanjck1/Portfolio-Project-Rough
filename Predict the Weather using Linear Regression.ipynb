{
 "cells": [
  {
   "cell_type": "markdown",
   "id": "97bd1f8d",
   "metadata": {},
   "source": [
    "# Project: Predict the Weather"
   ]
  },
  {
   "cell_type": "markdown",
   "id": "9d68d7c9",
   "metadata": {},
   "source": [
    "The goal of this project is to predict the weather tomorrow given 23 years of historical data in Carlsbad, California (my hometown).\n",
    "\n",
    "I will be using machine learning technqiues in order to make these predictions"
   ]
  },
  {
   "cell_type": "markdown",
   "id": "908ac8f5",
   "metadata": {},
   "source": [
    "Step 1: Prepare the data for machine learning"
   ]
  },
  {
   "cell_type": "code",
   "execution_count": 1,
   "id": "b7da4f3e",
   "metadata": {},
   "outputs": [],
   "source": [
    "import pandas as pd\n",
    "import numpy as np\n",
    "\n",
    "df = pd.read_csv('carlsbad_airport_weather.csv', index_col='DATE')"
   ]
  },
  {
   "cell_type": "markdown",
   "id": "3552ea7f",
   "metadata": {},
   "source": [
    "Get rid of missing values"
   ]
  },
  {
   "cell_type": "code",
   "execution_count": 2,
   "id": "619f6ec8",
   "metadata": {},
   "outputs": [
    {
     "data": {
      "text/plain": [
       "STATION    0.000000\n",
       "NAME       0.000000\n",
       "AWND       0.002081\n",
       "FMTM       0.689957\n",
       "PGTM       0.471799\n",
       "PRCP       0.000219\n",
       "SNOW       0.652831\n",
       "SNWD       0.638156\n",
       "TAVG       0.707480\n",
       "TMAX       0.001862\n",
       "TMIN       0.002081\n",
       "TSUN       0.885774\n",
       "WDF2       0.001095\n",
       "WDF5       0.004600\n",
       "WSF2       0.000986\n",
       "WSF5       0.003833\n",
       "WT01       0.711094\n",
       "WT02       0.942832\n",
       "WT03       0.993867\n",
       "WT08       0.750630\n",
       "WT10       0.999890\n",
       "dtype: float64"
      ]
     },
     "execution_count": 2,
     "metadata": {},
     "output_type": "execute_result"
    }
   ],
   "source": [
    "df.apply(pd.isnull).sum()/df.shape[0]"
   ]
  },
  {
   "cell_type": "markdown",
   "id": "280d864a",
   "metadata": {},
   "source": [
    "this above is the percentage of each column that is null"
   ]
  },
  {
   "cell_type": "markdown",
   "id": "de7b82e4",
   "metadata": {},
   "source": [
    "We are only looking at the core values, only selecting the 'core' values"
   ]
  },
  {
   "cell_type": "code",
   "execution_count": 3,
   "id": "50ceff9f",
   "metadata": {},
   "outputs": [],
   "source": [
    "core = df[['PRCP','SNOW','SNWD','TMAX','TMIN']].copy()"
   ]
  },
  {
   "cell_type": "markdown",
   "id": "ef1ee863",
   "metadata": {},
   "source": [
    "Rename the columns so its easy"
   ]
  },
  {
   "cell_type": "code",
   "execution_count": 4,
   "id": "a3773d8d",
   "metadata": {},
   "outputs": [
    {
     "data": {
      "text/html": [
       "<div>\n",
       "<style scoped>\n",
       "    .dataframe tbody tr th:only-of-type {\n",
       "        vertical-align: middle;\n",
       "    }\n",
       "\n",
       "    .dataframe tbody tr th {\n",
       "        vertical-align: top;\n",
       "    }\n",
       "\n",
       "    .dataframe thead th {\n",
       "        text-align: right;\n",
       "    }\n",
       "</style>\n",
       "<table border=\"1\" class=\"dataframe\">\n",
       "  <thead>\n",
       "    <tr style=\"text-align: right;\">\n",
       "      <th></th>\n",
       "      <th>precip</th>\n",
       "      <th>snow</th>\n",
       "      <th>snow_depth</th>\n",
       "      <th>temp_max</th>\n",
       "      <th>temp_min</th>\n",
       "    </tr>\n",
       "    <tr>\n",
       "      <th>DATE</th>\n",
       "      <th></th>\n",
       "      <th></th>\n",
       "      <th></th>\n",
       "      <th></th>\n",
       "      <th></th>\n",
       "    </tr>\n",
       "  </thead>\n",
       "  <tbody>\n",
       "    <tr>\n",
       "      <th>1998-04-01</th>\n",
       "      <td>0.61</td>\n",
       "      <td>NaN</td>\n",
       "      <td>NaN</td>\n",
       "      <td>56.0</td>\n",
       "      <td>44.0</td>\n",
       "    </tr>\n",
       "    <tr>\n",
       "      <th>1998-04-02</th>\n",
       "      <td>0.01</td>\n",
       "      <td>NaN</td>\n",
       "      <td>NaN</td>\n",
       "      <td>60.0</td>\n",
       "      <td>47.0</td>\n",
       "    </tr>\n",
       "    <tr>\n",
       "      <th>1998-04-03</th>\n",
       "      <td>0.04</td>\n",
       "      <td>NaN</td>\n",
       "      <td>NaN</td>\n",
       "      <td>61.0</td>\n",
       "      <td>47.0</td>\n",
       "    </tr>\n",
       "    <tr>\n",
       "      <th>1998-04-04</th>\n",
       "      <td>0.00</td>\n",
       "      <td>NaN</td>\n",
       "      <td>NaN</td>\n",
       "      <td>60.0</td>\n",
       "      <td>46.0</td>\n",
       "    </tr>\n",
       "    <tr>\n",
       "      <th>1998-04-05</th>\n",
       "      <td>0.00</td>\n",
       "      <td>NaN</td>\n",
       "      <td>NaN</td>\n",
       "      <td>61.0</td>\n",
       "      <td>47.0</td>\n",
       "    </tr>\n",
       "    <tr>\n",
       "      <th>...</th>\n",
       "      <td>...</td>\n",
       "      <td>...</td>\n",
       "      <td>...</td>\n",
       "      <td>...</td>\n",
       "      <td>...</td>\n",
       "    </tr>\n",
       "    <tr>\n",
       "      <th>2023-03-29</th>\n",
       "      <td>0.22</td>\n",
       "      <td>NaN</td>\n",
       "      <td>NaN</td>\n",
       "      <td>56.0</td>\n",
       "      <td>50.0</td>\n",
       "    </tr>\n",
       "    <tr>\n",
       "      <th>2023-03-30</th>\n",
       "      <td>0.38</td>\n",
       "      <td>NaN</td>\n",
       "      <td>NaN</td>\n",
       "      <td>59.0</td>\n",
       "      <td>48.0</td>\n",
       "    </tr>\n",
       "    <tr>\n",
       "      <th>2023-03-31</th>\n",
       "      <td>0.00</td>\n",
       "      <td>NaN</td>\n",
       "      <td>NaN</td>\n",
       "      <td>62.0</td>\n",
       "      <td>47.0</td>\n",
       "    </tr>\n",
       "    <tr>\n",
       "      <th>2023-04-01</th>\n",
       "      <td>0.00</td>\n",
       "      <td>NaN</td>\n",
       "      <td>NaN</td>\n",
       "      <td>63.0</td>\n",
       "      <td>46.0</td>\n",
       "    </tr>\n",
       "    <tr>\n",
       "      <th>2023-04-02</th>\n",
       "      <td>0.00</td>\n",
       "      <td>NaN</td>\n",
       "      <td>NaN</td>\n",
       "      <td>60.0</td>\n",
       "      <td>47.0</td>\n",
       "    </tr>\n",
       "  </tbody>\n",
       "</table>\n",
       "<p>9131 rows × 5 columns</p>\n",
       "</div>"
      ],
      "text/plain": [
       "            precip  snow  snow_depth  temp_max  temp_min\n",
       "DATE                                                    \n",
       "1998-04-01    0.61   NaN         NaN      56.0      44.0\n",
       "1998-04-02    0.01   NaN         NaN      60.0      47.0\n",
       "1998-04-03    0.04   NaN         NaN      61.0      47.0\n",
       "1998-04-04    0.00   NaN         NaN      60.0      46.0\n",
       "1998-04-05    0.00   NaN         NaN      61.0      47.0\n",
       "...            ...   ...         ...       ...       ...\n",
       "2023-03-29    0.22   NaN         NaN      56.0      50.0\n",
       "2023-03-30    0.38   NaN         NaN      59.0      48.0\n",
       "2023-03-31    0.00   NaN         NaN      62.0      47.0\n",
       "2023-04-01    0.00   NaN         NaN      63.0      46.0\n",
       "2023-04-02    0.00   NaN         NaN      60.0      47.0\n",
       "\n",
       "[9131 rows x 5 columns]"
      ]
     },
     "execution_count": 4,
     "metadata": {},
     "output_type": "execute_result"
    }
   ],
   "source": [
    "core.columns = ['precip', 'snow', 'snow_depth','temp_max','temp_min']\n",
    "core"
   ]
  },
  {
   "cell_type": "markdown",
   "id": "56190bd3",
   "metadata": {},
   "source": [
    "Of the core columns, how many null values do we have"
   ]
  },
  {
   "cell_type": "code",
   "execution_count": 5,
   "id": "eceeca19",
   "metadata": {},
   "outputs": [
    {
     "data": {
      "text/plain": [
       "precip        0.000219\n",
       "snow          0.652831\n",
       "snow_depth    0.638156\n",
       "temp_max      0.001862\n",
       "temp_min      0.002081\n",
       "dtype: float64"
      ]
     },
     "execution_count": 5,
     "metadata": {},
     "output_type": "execute_result"
    }
   ],
   "source": [
    "core.apply(pd.isnull).sum()/core.shape[0]"
   ]
  },
  {
   "cell_type": "code",
   "execution_count": 6,
   "id": "f352e82a",
   "metadata": {},
   "outputs": [
    {
     "data": {
      "text/plain": [
       "0.0    3170\n",
       "Name: snow, dtype: int64"
      ]
     },
     "execution_count": 6,
     "metadata": {},
     "output_type": "execute_result"
    }
   ],
   "source": [
    "core.snow.value_counts()"
   ]
  },
  {
   "cell_type": "markdown",
   "id": "b560af7b",
   "metadata": {},
   "source": [
    "Snow is not valuable for me since it never snowed in Carlsbad"
   ]
  },
  {
   "cell_type": "code",
   "execution_count": 7,
   "id": "f4ac8a23",
   "metadata": {},
   "outputs": [],
   "source": [
    "del core['snow']"
   ]
  },
  {
   "cell_type": "code",
   "execution_count": 8,
   "id": "cff0ff65",
   "metadata": {},
   "outputs": [],
   "source": [
    "del core['snow_depth']"
   ]
  },
  {
   "cell_type": "markdown",
   "id": "979df907",
   "metadata": {},
   "source": [
    "Only select rows where precipitation is null"
   ]
  },
  {
   "cell_type": "code",
   "execution_count": 9,
   "id": "226bb76b",
   "metadata": {},
   "outputs": [
    {
     "data": {
      "text/html": [
       "<div>\n",
       "<style scoped>\n",
       "    .dataframe tbody tr th:only-of-type {\n",
       "        vertical-align: middle;\n",
       "    }\n",
       "\n",
       "    .dataframe tbody tr th {\n",
       "        vertical-align: top;\n",
       "    }\n",
       "\n",
       "    .dataframe thead th {\n",
       "        text-align: right;\n",
       "    }\n",
       "</style>\n",
       "<table border=\"1\" class=\"dataframe\">\n",
       "  <thead>\n",
       "    <tr style=\"text-align: right;\">\n",
       "      <th></th>\n",
       "      <th>precip</th>\n",
       "      <th>temp_max</th>\n",
       "      <th>temp_min</th>\n",
       "    </tr>\n",
       "    <tr>\n",
       "      <th>DATE</th>\n",
       "      <th></th>\n",
       "      <th></th>\n",
       "      <th></th>\n",
       "    </tr>\n",
       "  </thead>\n",
       "  <tbody>\n",
       "    <tr>\n",
       "      <th>2003-03-27</th>\n",
       "      <td>NaN</td>\n",
       "      <td>66.0</td>\n",
       "      <td>56.0</td>\n",
       "    </tr>\n",
       "    <tr>\n",
       "      <th>2005-04-08</th>\n",
       "      <td>NaN</td>\n",
       "      <td>NaN</td>\n",
       "      <td>NaN</td>\n",
       "    </tr>\n",
       "  </tbody>\n",
       "</table>\n",
       "</div>"
      ],
      "text/plain": [
       "            precip  temp_max  temp_min\n",
       "DATE                                  \n",
       "2003-03-27     NaN      66.0      56.0\n",
       "2005-04-08     NaN       NaN       NaN"
      ]
     },
     "execution_count": 9,
     "metadata": {},
     "output_type": "execute_result"
    }
   ],
   "source": [
    "core[pd.isnull(core['precip'])]"
   ]
  },
  {
   "cell_type": "markdown",
   "id": "1ce1453a",
   "metadata": {},
   "source": [
    "Only 8 instances of null precipitation"
   ]
  },
  {
   "cell_type": "markdown",
   "id": "48863f09",
   "metadata": {},
   "source": [
    "Replace all the null values in precip with 0"
   ]
  },
  {
   "cell_type": "code",
   "execution_count": 10,
   "id": "3b323879",
   "metadata": {},
   "outputs": [],
   "source": [
    "core['precip'] = core['precip'].fillna(0)"
   ]
  },
  {
   "cell_type": "markdown",
   "id": "16a7e3d8",
   "metadata": {},
   "source": [
    "Deal with temperature min now"
   ]
  },
  {
   "cell_type": "code",
   "execution_count": 11,
   "id": "9e8fbdb3",
   "metadata": {},
   "outputs": [
    {
     "data": {
      "text/html": [
       "<div>\n",
       "<style scoped>\n",
       "    .dataframe tbody tr th:only-of-type {\n",
       "        vertical-align: middle;\n",
       "    }\n",
       "\n",
       "    .dataframe tbody tr th {\n",
       "        vertical-align: top;\n",
       "    }\n",
       "\n",
       "    .dataframe thead th {\n",
       "        text-align: right;\n",
       "    }\n",
       "</style>\n",
       "<table border=\"1\" class=\"dataframe\">\n",
       "  <thead>\n",
       "    <tr style=\"text-align: right;\">\n",
       "      <th></th>\n",
       "      <th>precip</th>\n",
       "      <th>temp_max</th>\n",
       "      <th>temp_min</th>\n",
       "    </tr>\n",
       "    <tr>\n",
       "      <th>DATE</th>\n",
       "      <th></th>\n",
       "      <th></th>\n",
       "      <th></th>\n",
       "    </tr>\n",
       "  </thead>\n",
       "  <tbody>\n",
       "    <tr>\n",
       "      <th>1998-06-17</th>\n",
       "      <td>0.0</td>\n",
       "      <td>NaN</td>\n",
       "      <td>NaN</td>\n",
       "    </tr>\n",
       "    <tr>\n",
       "      <th>1998-06-18</th>\n",
       "      <td>0.0</td>\n",
       "      <td>NaN</td>\n",
       "      <td>NaN</td>\n",
       "    </tr>\n",
       "    <tr>\n",
       "      <th>1998-08-29</th>\n",
       "      <td>0.0</td>\n",
       "      <td>NaN</td>\n",
       "      <td>NaN</td>\n",
       "    </tr>\n",
       "    <tr>\n",
       "      <th>1998-08-30</th>\n",
       "      <td>0.0</td>\n",
       "      <td>NaN</td>\n",
       "      <td>NaN</td>\n",
       "    </tr>\n",
       "    <tr>\n",
       "      <th>1999-08-23</th>\n",
       "      <td>0.0</td>\n",
       "      <td>NaN</td>\n",
       "      <td>NaN</td>\n",
       "    </tr>\n",
       "    <tr>\n",
       "      <th>1999-08-24</th>\n",
       "      <td>0.0</td>\n",
       "      <td>NaN</td>\n",
       "      <td>NaN</td>\n",
       "    </tr>\n",
       "    <tr>\n",
       "      <th>2001-03-21</th>\n",
       "      <td>0.0</td>\n",
       "      <td>NaN</td>\n",
       "      <td>NaN</td>\n",
       "    </tr>\n",
       "    <tr>\n",
       "      <th>2005-04-08</th>\n",
       "      <td>0.0</td>\n",
       "      <td>NaN</td>\n",
       "      <td>NaN</td>\n",
       "    </tr>\n",
       "    <tr>\n",
       "      <th>2006-02-04</th>\n",
       "      <td>0.0</td>\n",
       "      <td>NaN</td>\n",
       "      <td>NaN</td>\n",
       "    </tr>\n",
       "    <tr>\n",
       "      <th>2006-07-12</th>\n",
       "      <td>0.0</td>\n",
       "      <td>82.0</td>\n",
       "      <td>NaN</td>\n",
       "    </tr>\n",
       "    <tr>\n",
       "      <th>2016-06-03</th>\n",
       "      <td>0.0</td>\n",
       "      <td>71.0</td>\n",
       "      <td>NaN</td>\n",
       "    </tr>\n",
       "    <tr>\n",
       "      <th>2016-06-06</th>\n",
       "      <td>0.0</td>\n",
       "      <td>NaN</td>\n",
       "      <td>NaN</td>\n",
       "    </tr>\n",
       "    <tr>\n",
       "      <th>2016-06-07</th>\n",
       "      <td>0.0</td>\n",
       "      <td>NaN</td>\n",
       "      <td>NaN</td>\n",
       "    </tr>\n",
       "    <tr>\n",
       "      <th>2017-06-07</th>\n",
       "      <td>0.0</td>\n",
       "      <td>NaN</td>\n",
       "      <td>NaN</td>\n",
       "    </tr>\n",
       "    <tr>\n",
       "      <th>2019-01-02</th>\n",
       "      <td>0.0</td>\n",
       "      <td>NaN</td>\n",
       "      <td>NaN</td>\n",
       "    </tr>\n",
       "    <tr>\n",
       "      <th>2022-12-13</th>\n",
       "      <td>0.0</td>\n",
       "      <td>NaN</td>\n",
       "      <td>NaN</td>\n",
       "    </tr>\n",
       "    <tr>\n",
       "      <th>2022-12-14</th>\n",
       "      <td>0.0</td>\n",
       "      <td>NaN</td>\n",
       "      <td>NaN</td>\n",
       "    </tr>\n",
       "    <tr>\n",
       "      <th>2022-12-19</th>\n",
       "      <td>0.0</td>\n",
       "      <td>NaN</td>\n",
       "      <td>NaN</td>\n",
       "    </tr>\n",
       "    <tr>\n",
       "      <th>2022-12-21</th>\n",
       "      <td>0.0</td>\n",
       "      <td>NaN</td>\n",
       "      <td>NaN</td>\n",
       "    </tr>\n",
       "  </tbody>\n",
       "</table>\n",
       "</div>"
      ],
      "text/plain": [
       "            precip  temp_max  temp_min\n",
       "DATE                                  \n",
       "1998-06-17     0.0       NaN       NaN\n",
       "1998-06-18     0.0       NaN       NaN\n",
       "1998-08-29     0.0       NaN       NaN\n",
       "1998-08-30     0.0       NaN       NaN\n",
       "1999-08-23     0.0       NaN       NaN\n",
       "1999-08-24     0.0       NaN       NaN\n",
       "2001-03-21     0.0       NaN       NaN\n",
       "2005-04-08     0.0       NaN       NaN\n",
       "2006-02-04     0.0       NaN       NaN\n",
       "2006-07-12     0.0      82.0       NaN\n",
       "2016-06-03     0.0      71.0       NaN\n",
       "2016-06-06     0.0       NaN       NaN\n",
       "2016-06-07     0.0       NaN       NaN\n",
       "2017-06-07     0.0       NaN       NaN\n",
       "2019-01-02     0.0       NaN       NaN\n",
       "2022-12-13     0.0       NaN       NaN\n",
       "2022-12-14     0.0       NaN       NaN\n",
       "2022-12-19     0.0       NaN       NaN\n",
       "2022-12-21     0.0       NaN       NaN"
      ]
     },
     "execution_count": 11,
     "metadata": {},
     "output_type": "execute_result"
    }
   ],
   "source": [
    "core[pd.isnull(core['temp_min'])]"
   ]
  },
  {
   "cell_type": "markdown",
   "id": "c8dbf0e9",
   "metadata": {},
   "source": [
    "With these small amounts, I am going to do a forward fill"
   ]
  },
  {
   "cell_type": "code",
   "execution_count": 12,
   "id": "241c4694",
   "metadata": {},
   "outputs": [],
   "source": [
    "core = core.fillna(method='ffill')"
   ]
  },
  {
   "cell_type": "code",
   "execution_count": 13,
   "id": "9b31860b",
   "metadata": {},
   "outputs": [
    {
     "data": {
      "text/plain": [
       "precip      0.0\n",
       "temp_max    0.0\n",
       "temp_min    0.0\n",
       "dtype: float64"
      ]
     },
     "execution_count": 13,
     "metadata": {},
     "output_type": "execute_result"
    }
   ],
   "source": [
    "core.apply(pd.isnull).sum()/core.shape[0]"
   ]
  },
  {
   "cell_type": "markdown",
   "id": "5e6665ae",
   "metadata": {},
   "source": [
    "No missing values now"
   ]
  },
  {
   "cell_type": "markdown",
   "id": "2b1f020b",
   "metadata": {},
   "source": [
    "Verify that we have the correct data types"
   ]
  },
  {
   "cell_type": "code",
   "execution_count": 14,
   "id": "c2e00352",
   "metadata": {},
   "outputs": [
    {
     "data": {
      "text/plain": [
       "precip      float64\n",
       "temp_max    float64\n",
       "temp_min    float64\n",
       "dtype: object"
      ]
     },
     "execution_count": 14,
     "metadata": {},
     "output_type": "execute_result"
    }
   ],
   "source": [
    "core.dtypes"
   ]
  },
  {
   "cell_type": "code",
   "execution_count": 15,
   "id": "fe0f7dea",
   "metadata": {},
   "outputs": [
    {
     "data": {
      "text/plain": [
       "Index(['1998-04-01', '1998-04-02', '1998-04-03', '1998-04-04', '1998-04-05',\n",
       "       '1998-04-06', '1998-04-07', '1998-04-08', '1998-04-09', '1998-04-10',\n",
       "       ...\n",
       "       '2023-03-24', '2023-03-25', '2023-03-26', '2023-03-27', '2023-03-28',\n",
       "       '2023-03-29', '2023-03-30', '2023-03-31', '2023-04-01', '2023-04-02'],\n",
       "      dtype='object', name='DATE', length=9131)"
      ]
     },
     "execution_count": 15,
     "metadata": {},
     "output_type": "execute_result"
    }
   ],
   "source": [
    "core.index"
   ]
  },
  {
   "cell_type": "code",
   "execution_count": 16,
   "id": "5d1e1e2a",
   "metadata": {},
   "outputs": [],
   "source": [
    "core.index = pd.to_datetime(core.index)"
   ]
  },
  {
   "cell_type": "code",
   "execution_count": 17,
   "id": "b1587749",
   "metadata": {},
   "outputs": [
    {
     "data": {
      "text/plain": [
       "DatetimeIndex(['1998-04-01', '1998-04-02', '1998-04-03', '1998-04-04',\n",
       "               '1998-04-05', '1998-04-06', '1998-04-07', '1998-04-08',\n",
       "               '1998-04-09', '1998-04-10',\n",
       "               ...\n",
       "               '2023-03-24', '2023-03-25', '2023-03-26', '2023-03-27',\n",
       "               '2023-03-28', '2023-03-29', '2023-03-30', '2023-03-31',\n",
       "               '2023-04-01', '2023-04-02'],\n",
       "              dtype='datetime64[ns]', name='DATE', length=9131, freq=None)"
      ]
     },
     "execution_count": 17,
     "metadata": {},
     "output_type": "execute_result"
    }
   ],
   "source": [
    "core.index"
   ]
  },
  {
   "cell_type": "markdown",
   "id": "5bceaaab",
   "metadata": {},
   "source": [
    "Convert it to datetime was done above"
   ]
  },
  {
   "cell_type": "markdown",
   "id": "f9eb1ad7",
   "metadata": {},
   "source": [
    "999's in a field mean that the column is having some missing fields, need to confirm there is none in our data "
   ]
  },
  {
   "cell_type": "code",
   "execution_count": 18,
   "id": "ce564648",
   "metadata": {},
   "outputs": [
    {
     "data": {
      "text/plain": [
       "precip      0\n",
       "temp_max    0\n",
       "temp_min    0\n",
       "dtype: int64"
      ]
     },
     "execution_count": 18,
     "metadata": {},
     "output_type": "execute_result"
    }
   ],
   "source": [
    "core.apply(lambda x: (x==9999).sum())"
   ]
  },
  {
   "cell_type": "markdown",
   "id": "6d8dd90a",
   "metadata": {},
   "source": [
    "We are good"
   ]
  },
  {
   "cell_type": "markdown",
   "id": "f59cdd09",
   "metadata": {},
   "source": [
    "Analyzing our weather data"
   ]
  },
  {
   "cell_type": "code",
   "execution_count": 19,
   "id": "c397e009",
   "metadata": {},
   "outputs": [
    {
     "data": {
      "text/plain": [
       "<AxesSubplot:xlabel='DATE'>"
      ]
     },
     "execution_count": 19,
     "metadata": {},
     "output_type": "execute_result"
    },
    {
     "data": {
      "image/png": "[encoded data removed]",
      "text/plain": [
       "<Figure size 432x288 with 1 Axes>"
      ]
     },
     "metadata": {
      "needs_background": "light"
     },
     "output_type": "display_data"
    }
   ],
   "source": [
    "core[['temp_max', 'temp_min']].plot()"
   ]
  },
  {
   "cell_type": "markdown",
   "id": "2294e6a8",
   "metadata": {},
   "source": [
    "Plot data out to confirm nothing was weird with it"
   ]
  },
  {
   "cell_type": "code",
   "execution_count": 20,
   "id": "44cb055f",
   "metadata": {},
   "outputs": [
    {
     "data": {
      "text/plain": [
       "<AxesSubplot:xlabel='DATE'>"
      ]
     },
     "execution_count": 20,
     "metadata": {},
     "output_type": "execute_result"
    },
    {
     "data": {
      "image/png": "[encoded data removed]",
      "text/plain": [
       "<Figure size 432x288 with 1 Axes>"
      ]
     },
     "metadata": {
      "needs_background": "light"
     },
     "output_type": "display_data"
    }
   ],
   "source": [
    "core['precip'].plot()"
   ]
  },
  {
   "cell_type": "code",
   "execution_count": 21,
   "id": "b9bf7937",
   "metadata": {},
   "outputs": [
    {
     "data": {
      "text/plain": [
       "DATE\n",
       "1998     5.54\n",
       "1999     5.76\n",
       "2000     6.79\n",
       "2001     9.27\n",
       "2002     4.09\n",
       "2003    10.47\n",
       "2004    12.03\n",
       "2005    14.65\n",
       "2006     8.27\n",
       "2007     8.22\n",
       "2008    14.59\n",
       "2009     5.90\n",
       "2010    20.45\n",
       "2011    11.68\n",
       "2012     8.04\n",
       "2013     5.24\n",
       "2014     7.60\n",
       "2015     7.56\n",
       "2016    11.66\n",
       "2017    10.55\n",
       "2018     9.41\n",
       "2019    18.52\n",
       "2020    14.16\n",
       "2021     8.93\n",
       "2022     5.96\n",
       "2023    17.41\n",
       "Name: precip, dtype: float64"
      ]
     },
     "execution_count": 21,
     "metadata": {},
     "output_type": "execute_result"
    }
   ],
   "source": [
    "core.groupby(core.index.year).sum()['precip']"
   ]
  },
  {
   "cell_type": "markdown",
   "id": "f5626e1a",
   "metadata": {},
   "source": [
    "This above tells us how much it rained each year"
   ]
  },
  {
   "cell_type": "markdown",
   "id": "968e578e",
   "metadata": {},
   "source": [
    "Train our first machine learning model"
   ]
  },
  {
   "cell_type": "markdown",
   "id": "1d68894d",
   "metadata": {},
   "source": [
    "What do we want to predict?\n",
    "\n",
    "Tomorrow's maximum tempurate using historical data"
   ]
  },
  {
   "cell_type": "markdown",
   "id": "20c0e9d0",
   "metadata": {},
   "source": [
    "Need to create a target, this is what we are trying to predict"
   ]
  },
  {
   "cell_type": "code",
   "execution_count": 22,
   "id": "125038a1",
   "metadata": {},
   "outputs": [],
   "source": [
    "core['target'] = core.shift(-1)['temp_max']"
   ]
  },
  {
   "cell_type": "code",
   "execution_count": 23,
   "id": "6179a968",
   "metadata": {},
   "outputs": [
    {
     "data": {
      "text/html": [
       "<div>\n",
       "<style scoped>\n",
       "    .dataframe tbody tr th:only-of-type {\n",
       "        vertical-align: middle;\n",
       "    }\n",
       "\n",
       "    .dataframe tbody tr th {\n",
       "        vertical-align: top;\n",
       "    }\n",
       "\n",
       "    .dataframe thead th {\n",
       "        text-align: right;\n",
       "    }\n",
       "</style>\n",
       "<table border=\"1\" class=\"dataframe\">\n",
       "  <thead>\n",
       "    <tr style=\"text-align: right;\">\n",
       "      <th></th>\n",
       "      <th>precip</th>\n",
       "      <th>temp_max</th>\n",
       "      <th>temp_min</th>\n",
       "      <th>target</th>\n",
       "    </tr>\n",
       "    <tr>\n",
       "      <th>DATE</th>\n",
       "      <th></th>\n",
       "      <th></th>\n",
       "      <th></th>\n",
       "      <th></th>\n",
       "    </tr>\n",
       "  </thead>\n",
       "  <tbody>\n",
       "    <tr>\n",
       "      <th>1998-04-01</th>\n",
       "      <td>0.61</td>\n",
       "      <td>56.0</td>\n",
       "      <td>44.0</td>\n",
       "      <td>60.0</td>\n",
       "    </tr>\n",
       "    <tr>\n",
       "      <th>1998-04-02</th>\n",
       "      <td>0.01</td>\n",
       "      <td>60.0</td>\n",
       "      <td>47.0</td>\n",
       "      <td>61.0</td>\n",
       "    </tr>\n",
       "    <tr>\n",
       "      <th>1998-04-03</th>\n",
       "      <td>0.04</td>\n",
       "      <td>61.0</td>\n",
       "      <td>47.0</td>\n",
       "      <td>60.0</td>\n",
       "    </tr>\n",
       "    <tr>\n",
       "      <th>1998-04-04</th>\n",
       "      <td>0.00</td>\n",
       "      <td>60.0</td>\n",
       "      <td>46.0</td>\n",
       "      <td>61.0</td>\n",
       "    </tr>\n",
       "    <tr>\n",
       "      <th>1998-04-05</th>\n",
       "      <td>0.00</td>\n",
       "      <td>61.0</td>\n",
       "      <td>47.0</td>\n",
       "      <td>61.0</td>\n",
       "    </tr>\n",
       "    <tr>\n",
       "      <th>...</th>\n",
       "      <td>...</td>\n",
       "      <td>...</td>\n",
       "      <td>...</td>\n",
       "      <td>...</td>\n",
       "    </tr>\n",
       "    <tr>\n",
       "      <th>2023-03-29</th>\n",
       "      <td>0.22</td>\n",
       "      <td>56.0</td>\n",
       "      <td>50.0</td>\n",
       "      <td>59.0</td>\n",
       "    </tr>\n",
       "    <tr>\n",
       "      <th>2023-03-30</th>\n",
       "      <td>0.38</td>\n",
       "      <td>59.0</td>\n",
       "      <td>48.0</td>\n",
       "      <td>62.0</td>\n",
       "    </tr>\n",
       "    <tr>\n",
       "      <th>2023-03-31</th>\n",
       "      <td>0.00</td>\n",
       "      <td>62.0</td>\n",
       "      <td>47.0</td>\n",
       "      <td>63.0</td>\n",
       "    </tr>\n",
       "    <tr>\n",
       "      <th>2023-04-01</th>\n",
       "      <td>0.00</td>\n",
       "      <td>63.0</td>\n",
       "      <td>46.0</td>\n",
       "      <td>60.0</td>\n",
       "    </tr>\n",
       "    <tr>\n",
       "      <th>2023-04-02</th>\n",
       "      <td>0.00</td>\n",
       "      <td>60.0</td>\n",
       "      <td>47.0</td>\n",
       "      <td>NaN</td>\n",
       "    </tr>\n",
       "  </tbody>\n",
       "</table>\n",
       "<p>9131 rows × 4 columns</p>\n",
       "</div>"
      ],
      "text/plain": [
       "            precip  temp_max  temp_min  target\n",
       "DATE                                          \n",
       "1998-04-01    0.61      56.0      44.0    60.0\n",
       "1998-04-02    0.01      60.0      47.0    61.0\n",
       "1998-04-03    0.04      61.0      47.0    60.0\n",
       "1998-04-04    0.00      60.0      46.0    61.0\n",
       "1998-04-05    0.00      61.0      47.0    61.0\n",
       "...            ...       ...       ...     ...\n",
       "2023-03-29    0.22      56.0      50.0    59.0\n",
       "2023-03-30    0.38      59.0      48.0    62.0\n",
       "2023-03-31    0.00      62.0      47.0    63.0\n",
       "2023-04-01    0.00      63.0      46.0    60.0\n",
       "2023-04-02    0.00      60.0      47.0     NaN\n",
       "\n",
       "[9131 rows x 4 columns]"
      ]
     },
     "execution_count": 23,
     "metadata": {},
     "output_type": "execute_result"
    }
   ],
   "source": [
    "core"
   ]
  },
  {
   "cell_type": "markdown",
   "id": "535e5428",
   "metadata": {},
   "source": [
    "Last row in dataframe will inherently have a missing value, will get rid of it"
   ]
  },
  {
   "cell_type": "code",
   "execution_count": 24,
   "id": "eb6ca1a2",
   "metadata": {},
   "outputs": [],
   "source": [
    "core = core.iloc[:-1,:].copy()"
   ]
  },
  {
   "cell_type": "code",
   "execution_count": 25,
   "id": "0fcb0391",
   "metadata": {},
   "outputs": [
    {
     "data": {
      "text/html": [
       "<div>\n",
       "<style scoped>\n",
       "    .dataframe tbody tr th:only-of-type {\n",
       "        vertical-align: middle;\n",
       "    }\n",
       "\n",
       "    .dataframe tbody tr th {\n",
       "        vertical-align: top;\n",
       "    }\n",
       "\n",
       "    .dataframe thead th {\n",
       "        text-align: right;\n",
       "    }\n",
       "</style>\n",
       "<table border=\"1\" class=\"dataframe\">\n",
       "  <thead>\n",
       "    <tr style=\"text-align: right;\">\n",
       "      <th></th>\n",
       "      <th>precip</th>\n",
       "      <th>temp_max</th>\n",
       "      <th>temp_min</th>\n",
       "      <th>target</th>\n",
       "    </tr>\n",
       "    <tr>\n",
       "      <th>DATE</th>\n",
       "      <th></th>\n",
       "      <th></th>\n",
       "      <th></th>\n",
       "      <th></th>\n",
       "    </tr>\n",
       "  </thead>\n",
       "  <tbody>\n",
       "    <tr>\n",
       "      <th>1998-04-01</th>\n",
       "      <td>0.61</td>\n",
       "      <td>56.0</td>\n",
       "      <td>44.0</td>\n",
       "      <td>60.0</td>\n",
       "    </tr>\n",
       "    <tr>\n",
       "      <th>1998-04-02</th>\n",
       "      <td>0.01</td>\n",
       "      <td>60.0</td>\n",
       "      <td>47.0</td>\n",
       "      <td>61.0</td>\n",
       "    </tr>\n",
       "    <tr>\n",
       "      <th>1998-04-03</th>\n",
       "      <td>0.04</td>\n",
       "      <td>61.0</td>\n",
       "      <td>47.0</td>\n",
       "      <td>60.0</td>\n",
       "    </tr>\n",
       "    <tr>\n",
       "      <th>1998-04-04</th>\n",
       "      <td>0.00</td>\n",
       "      <td>60.0</td>\n",
       "      <td>46.0</td>\n",
       "      <td>61.0</td>\n",
       "    </tr>\n",
       "    <tr>\n",
       "      <th>1998-04-05</th>\n",
       "      <td>0.00</td>\n",
       "      <td>61.0</td>\n",
       "      <td>47.0</td>\n",
       "      <td>61.0</td>\n",
       "    </tr>\n",
       "    <tr>\n",
       "      <th>...</th>\n",
       "      <td>...</td>\n",
       "      <td>...</td>\n",
       "      <td>...</td>\n",
       "      <td>...</td>\n",
       "    </tr>\n",
       "    <tr>\n",
       "      <th>2023-03-28</th>\n",
       "      <td>0.00</td>\n",
       "      <td>66.0</td>\n",
       "      <td>49.0</td>\n",
       "      <td>56.0</td>\n",
       "    </tr>\n",
       "    <tr>\n",
       "      <th>2023-03-29</th>\n",
       "      <td>0.22</td>\n",
       "      <td>56.0</td>\n",
       "      <td>50.0</td>\n",
       "      <td>59.0</td>\n",
       "    </tr>\n",
       "    <tr>\n",
       "      <th>2023-03-30</th>\n",
       "      <td>0.38</td>\n",
       "      <td>59.0</td>\n",
       "      <td>48.0</td>\n",
       "      <td>62.0</td>\n",
       "    </tr>\n",
       "    <tr>\n",
       "      <th>2023-03-31</th>\n",
       "      <td>0.00</td>\n",
       "      <td>62.0</td>\n",
       "      <td>47.0</td>\n",
       "      <td>63.0</td>\n",
       "    </tr>\n",
       "    <tr>\n",
       "      <th>2023-04-01</th>\n",
       "      <td>0.00</td>\n",
       "      <td>63.0</td>\n",
       "      <td>46.0</td>\n",
       "      <td>60.0</td>\n",
       "    </tr>\n",
       "  </tbody>\n",
       "</table>\n",
       "<p>9130 rows × 4 columns</p>\n",
       "</div>"
      ],
      "text/plain": [
       "            precip  temp_max  temp_min  target\n",
       "DATE                                          \n",
       "1998-04-01    0.61      56.0      44.0    60.0\n",
       "1998-04-02    0.01      60.0      47.0    61.0\n",
       "1998-04-03    0.04      61.0      47.0    60.0\n",
       "1998-04-04    0.00      60.0      46.0    61.0\n",
       "1998-04-05    0.00      61.0      47.0    61.0\n",
       "...            ...       ...       ...     ...\n",
       "2023-03-28    0.00      66.0      49.0    56.0\n",
       "2023-03-29    0.22      56.0      50.0    59.0\n",
       "2023-03-30    0.38      59.0      48.0    62.0\n",
       "2023-03-31    0.00      62.0      47.0    63.0\n",
       "2023-04-01    0.00      63.0      46.0    60.0\n",
       "\n",
       "[9130 rows x 4 columns]"
      ]
     },
     "execution_count": 25,
     "metadata": {},
     "output_type": "execute_result"
    }
   ],
   "source": [
    "core"
   ]
  },
  {
   "cell_type": "code",
   "execution_count": 26,
   "id": "4d8be5ba",
   "metadata": {},
   "outputs": [],
   "source": [
    "from sklearn.linear_model import Ridge \n",
    "\n",
    "reg = Ridge(alpha=.1)"
   ]
  },
  {
   "cell_type": "code",
   "execution_count": 27,
   "id": "75d3db83",
   "metadata": {},
   "outputs": [],
   "source": [
    "predictors = ['precip', 'temp_max', 'temp_min']"
   ]
  },
  {
   "cell_type": "code",
   "execution_count": 28,
   "id": "15bf3a3c",
   "metadata": {},
   "outputs": [],
   "source": [
    "train = core.loc[:'2022-12-31']\n",
    "test = core.loc['2022-12-31':]"
   ]
  },
  {
   "cell_type": "markdown",
   "id": "402938b1",
   "metadata": {},
   "source": [
    "Train is all the dates before December 31, 2022\n",
    "Test is all the dates after December 31, 2022"
   ]
  },
  {
   "cell_type": "code",
   "execution_count": 29,
   "id": "9a41fe8f",
   "metadata": {},
   "outputs": [
    {
     "data": {
      "text/plain": [
       "Ridge(alpha=0.1)"
      ]
     },
     "execution_count": 29,
     "metadata": {},
     "output_type": "execute_result"
    }
   ],
   "source": [
    "reg.fit(train[predictors], train['target'])"
   ]
  },
  {
   "cell_type": "code",
   "execution_count": 30,
   "id": "5d3b259a",
   "metadata": {},
   "outputs": [],
   "source": [
    "predictions = reg.predict(test[predictors])"
   ]
  },
  {
   "cell_type": "code",
   "execution_count": 31,
   "id": "59df639f",
   "metadata": {},
   "outputs": [],
   "source": [
    "from sklearn.metrics import mean_absolute_error"
   ]
  },
  {
   "cell_type": "code",
   "execution_count": 32,
   "id": "21c8e03a",
   "metadata": {},
   "outputs": [
    {
     "data": {
      "text/plain": [
       "3.236250221274064"
      ]
     },
     "execution_count": 32,
     "metadata": {},
     "output_type": "execute_result"
    }
   ],
   "source": [
    "mean_absolute_error(test['target'], predictions)"
   ]
  },
  {
   "cell_type": "markdown",
   "id": "9df20724",
   "metadata": {},
   "source": [
    "This means we are on average 3.2 degrees off the actual temperature"
   ]
  },
  {
   "cell_type": "markdown",
   "id": "db7244c5",
   "metadata": {},
   "source": [
    "Evaluating our model"
   ]
  },
  {
   "cell_type": "markdown",
   "id": "43c0bbae",
   "metadata": {},
   "source": [
    "combine our actual values vs our predicted values. Helps us see if there was something we are missing"
   ]
  },
  {
   "cell_type": "code",
   "execution_count": 33,
   "id": "3e783b2d",
   "metadata": {},
   "outputs": [],
   "source": [
    "combined = pd.concat([test['target'], pd.Series(predictions, index=test.index)], axis=1)"
   ]
  },
  {
   "cell_type": "code",
   "execution_count": 34,
   "id": "9ad2e4dd",
   "metadata": {},
   "outputs": [],
   "source": [
    "combined.columns = ['actual', 'predictions']"
   ]
  },
  {
   "cell_type": "code",
   "execution_count": 35,
   "id": "39234497",
   "metadata": {},
   "outputs": [
    {
     "data": {
      "text/plain": [
       "<AxesSubplot:xlabel='DATE'>"
      ]
     },
     "execution_count": 35,
     "metadata": {},
     "output_type": "execute_result"
    },
    {
     "data": {
      "image/png": "[encoded data removed]",
      "text/plain": [
       "<Figure size 432x288 with 1 Axes>"
      ]
     },
     "metadata": {
      "needs_background": "light"
     },
     "output_type": "display_data"
    }
   ],
   "source": [
    "combined.plot()"
   ]
  },
  {
   "cell_type": "code",
   "execution_count": 36,
   "id": "a5f2ceb4",
   "metadata": {},
   "outputs": [
    {
     "data": {
      "text/plain": [
       "array([-2.4373081 ,  0.73469772,  0.09545649])"
      ]
     },
     "execution_count": 36,
     "metadata": {},
     "output_type": "execute_result"
    }
   ],
   "source": [
    "reg.coef_"
   ]
  },
  {
   "cell_type": "markdown",
   "id": "544552fc",
   "metadata": {},
   "source": [
    "This means that precip has negative impact on temp_max of -2.437"
   ]
  },
  {
   "cell_type": "markdown",
   "id": "d2b75a63",
   "metadata": {},
   "source": [
    "Creating a function to make predictions"
   ]
  },
  {
   "cell_type": "code",
   "execution_count": 37,
   "id": "a283aa6a",
   "metadata": {},
   "outputs": [],
   "source": [
    "def create_predictions(predictors, core, reg):\n",
    "    train = core.loc[:'2022-12-31']\n",
    "    test = core.loc['2022-12-31':]\n",
    "    reg.fit(train[predictors], train['target'])\n",
    "    predictions = reg.predict(test[predictors])\n",
    "    error = mean_absolute_error(test['target'], predictions)\n",
    "    combined = pd.concat([test['target'], pd.Series(predictions, index=test.index)], axis=1)\n",
    "    combined.columns = ['actual', 'predictions']\n",
    "    return error, combined \n",
    "    \n",
    "    "
   ]
  },
  {
   "cell_type": "markdown",
   "id": "f727db92",
   "metadata": {},
   "source": [
    "Create more predictors"
   ]
  },
  {
   "cell_type": "markdown",
   "id": "9b361918",
   "metadata": {},
   "source": [
    "Rolling average temperature is for the 30 days prior find the average and assign to month_max in that row"
   ]
  },
  {
   "cell_type": "code",
   "execution_count": 38,
   "id": "1640c4d9",
   "metadata": {},
   "outputs": [],
   "source": [
    "core['30 day average max'] = core['temp_max'].rolling(30).mean()"
   ]
  },
  {
   "cell_type": "code",
   "execution_count": 39,
   "id": "41150f29",
   "metadata": {},
   "outputs": [
    {
     "data": {
      "text/html": [
       "<div>\n",
       "<style scoped>\n",
       "    .dataframe tbody tr th:only-of-type {\n",
       "        vertical-align: middle;\n",
       "    }\n",
       "\n",
       "    .dataframe tbody tr th {\n",
       "        vertical-align: top;\n",
       "    }\n",
       "\n",
       "    .dataframe thead th {\n",
       "        text-align: right;\n",
       "    }\n",
       "</style>\n",
       "<table border=\"1\" class=\"dataframe\">\n",
       "  <thead>\n",
       "    <tr style=\"text-align: right;\">\n",
       "      <th></th>\n",
       "      <th>precip</th>\n",
       "      <th>temp_max</th>\n",
       "      <th>temp_min</th>\n",
       "      <th>target</th>\n",
       "      <th>30 day average max</th>\n",
       "    </tr>\n",
       "    <tr>\n",
       "      <th>DATE</th>\n",
       "      <th></th>\n",
       "      <th></th>\n",
       "      <th></th>\n",
       "      <th></th>\n",
       "      <th></th>\n",
       "    </tr>\n",
       "  </thead>\n",
       "  <tbody>\n",
       "    <tr>\n",
       "      <th>1998-04-01</th>\n",
       "      <td>0.61</td>\n",
       "      <td>56.0</td>\n",
       "      <td>44.0</td>\n",
       "      <td>60.0</td>\n",
       "      <td>NaN</td>\n",
       "    </tr>\n",
       "    <tr>\n",
       "      <th>1998-04-02</th>\n",
       "      <td>0.01</td>\n",
       "      <td>60.0</td>\n",
       "      <td>47.0</td>\n",
       "      <td>61.0</td>\n",
       "      <td>NaN</td>\n",
       "    </tr>\n",
       "    <tr>\n",
       "      <th>1998-04-03</th>\n",
       "      <td>0.04</td>\n",
       "      <td>61.0</td>\n",
       "      <td>47.0</td>\n",
       "      <td>60.0</td>\n",
       "      <td>NaN</td>\n",
       "    </tr>\n",
       "    <tr>\n",
       "      <th>1998-04-04</th>\n",
       "      <td>0.00</td>\n",
       "      <td>60.0</td>\n",
       "      <td>46.0</td>\n",
       "      <td>61.0</td>\n",
       "      <td>NaN</td>\n",
       "    </tr>\n",
       "    <tr>\n",
       "      <th>1998-04-05</th>\n",
       "      <td>0.00</td>\n",
       "      <td>61.0</td>\n",
       "      <td>47.0</td>\n",
       "      <td>61.0</td>\n",
       "      <td>NaN</td>\n",
       "    </tr>\n",
       "    <tr>\n",
       "      <th>...</th>\n",
       "      <td>...</td>\n",
       "      <td>...</td>\n",
       "      <td>...</td>\n",
       "      <td>...</td>\n",
       "      <td>...</td>\n",
       "    </tr>\n",
       "    <tr>\n",
       "      <th>2023-03-28</th>\n",
       "      <td>0.00</td>\n",
       "      <td>66.0</td>\n",
       "      <td>49.0</td>\n",
       "      <td>56.0</td>\n",
       "      <td>60.700000</td>\n",
       "    </tr>\n",
       "    <tr>\n",
       "      <th>2023-03-29</th>\n",
       "      <td>0.22</td>\n",
       "      <td>56.0</td>\n",
       "      <td>50.0</td>\n",
       "      <td>59.0</td>\n",
       "      <td>60.666667</td>\n",
       "    </tr>\n",
       "    <tr>\n",
       "      <th>2023-03-30</th>\n",
       "      <td>0.38</td>\n",
       "      <td>59.0</td>\n",
       "      <td>48.0</td>\n",
       "      <td>62.0</td>\n",
       "      <td>60.733333</td>\n",
       "    </tr>\n",
       "    <tr>\n",
       "      <th>2023-03-31</th>\n",
       "      <td>0.00</td>\n",
       "      <td>62.0</td>\n",
       "      <td>47.0</td>\n",
       "      <td>63.0</td>\n",
       "      <td>61.033333</td>\n",
       "    </tr>\n",
       "    <tr>\n",
       "      <th>2023-04-01</th>\n",
       "      <td>0.00</td>\n",
       "      <td>63.0</td>\n",
       "      <td>46.0</td>\n",
       "      <td>60.0</td>\n",
       "      <td>61.233333</td>\n",
       "    </tr>\n",
       "  </tbody>\n",
       "</table>\n",
       "<p>9130 rows × 5 columns</p>\n",
       "</div>"
      ],
      "text/plain": [
       "            precip  temp_max  temp_min  target  30 day average max\n",
       "DATE                                                              \n",
       "1998-04-01    0.61      56.0      44.0    60.0                 NaN\n",
       "1998-04-02    0.01      60.0      47.0    61.0                 NaN\n",
       "1998-04-03    0.04      61.0      47.0    60.0                 NaN\n",
       "1998-04-04    0.00      60.0      46.0    61.0                 NaN\n",
       "1998-04-05    0.00      61.0      47.0    61.0                 NaN\n",
       "...            ...       ...       ...     ...                 ...\n",
       "2023-03-28    0.00      66.0      49.0    56.0           60.700000\n",
       "2023-03-29    0.22      56.0      50.0    59.0           60.666667\n",
       "2023-03-30    0.38      59.0      48.0    62.0           60.733333\n",
       "2023-03-31    0.00      62.0      47.0    63.0           61.033333\n",
       "2023-04-01    0.00      63.0      46.0    60.0           61.233333\n",
       "\n",
       "[9130 rows x 5 columns]"
      ]
     },
     "execution_count": 39,
     "metadata": {},
     "output_type": "execute_result"
    }
   ],
   "source": [
    "core"
   ]
  },
  {
   "cell_type": "code",
   "execution_count": 40,
   "id": "6bc27ff3",
   "metadata": {},
   "outputs": [],
   "source": [
    "core['above 30 day average max'] = core['30 day average max'] / core['temp_max']"
   ]
  },
  {
   "cell_type": "markdown",
   "id": "11838bb8",
   "metadata": {},
   "source": [
    "This will give us the ratio between how much the rolling average is above or below our daily max temperature"
   ]
  },
  {
   "cell_type": "code",
   "execution_count": 41,
   "id": "bf9570f5",
   "metadata": {},
   "outputs": [],
   "source": [
    "core['max_min_ratio'] = core['temp_max'] / core['temp_min']"
   ]
  },
  {
   "cell_type": "markdown",
   "id": "d5b0818e",
   "metadata": {},
   "source": [
    "This gives us the ratio of the max temperature on the day vs the min temperature on the day"
   ]
  },
  {
   "cell_type": "markdown",
   "id": "1c33d1a5",
   "metadata": {},
   "source": [
    "Adding our new predictors to our exisitng ones"
   ]
  },
  {
   "cell_type": "code",
   "execution_count": 42,
   "id": "4d5765ec",
   "metadata": {},
   "outputs": [],
   "source": [
    "predictors = ['precip', 'temp_max', 'temp_min', '30 day average max', 'above 30 day average max','max_min_ratio']"
   ]
  },
  {
   "cell_type": "markdown",
   "id": "8386b9ea",
   "metadata": {},
   "source": [
    "Before running the function, need to remove the first 30 rows since there will be NaN values"
   ]
  },
  {
   "cell_type": "code",
   "execution_count": 43,
   "id": "71f85c93",
   "metadata": {},
   "outputs": [],
   "source": [
    "core = core.iloc[30:,:].copy()"
   ]
  },
  {
   "cell_type": "code",
   "execution_count": 44,
   "id": "1cf814c0",
   "metadata": {},
   "outputs": [],
   "source": [
    "error, combined = create_predictions(predictors, core, reg)"
   ]
  },
  {
   "cell_type": "code",
   "execution_count": 45,
   "id": "f578cd7c",
   "metadata": {},
   "outputs": [
    {
     "data": {
      "text/plain": [
       "3.125330940044044"
      ]
     },
     "execution_count": 45,
     "metadata": {},
     "output_type": "execute_result"
    }
   ],
   "source": [
    "error"
   ]
  },
  {
   "cell_type": "markdown",
   "id": "6bedefc8",
   "metadata": {},
   "source": [
    "Reduced error slightly, now 3.1 vs 3.2 prior"
   ]
  },
  {
   "cell_type": "code",
   "execution_count": 46,
   "id": "8e4563bf",
   "metadata": {},
   "outputs": [
    {
     "data": {
      "text/plain": [
       "<AxesSubplot:xlabel='DATE'>"
      ]
     },
     "execution_count": 46,
     "metadata": {},
     "output_type": "execute_result"
    },
    {
     "data": {
      "image/png": "[encoded data removed]",
      "text/plain": [
       "<Figure size 432x288 with 1 Axes>"
      ]
     },
     "metadata": {
      "needs_background": "light"
     },
     "output_type": "display_data"
    }
   ],
   "source": [
    "combined.plot()"
   ]
  },
  {
   "cell_type": "markdown",
   "id": "14cfd7a4",
   "metadata": {},
   "source": [
    "Adding more specific predictors"
   ]
  },
  {
   "cell_type": "code",
   "execution_count": 47,
   "id": "50bd7a5b",
   "metadata": {},
   "outputs": [],
   "source": [
    "core['monthly_avg'] = core['temp_max'].groupby(core.index.month).apply(lambda x: x.expanding(1).mean())"
   ]
  },
  {
   "cell_type": "markdown",
   "id": "d15bbb45",
   "metadata": {},
   "source": [
    "this only takes previous rows to calculate the monthly average temperature"
   ]
  },
  {
   "cell_type": "code",
   "execution_count": 48,
   "id": "f1535e8a",
   "metadata": {},
   "outputs": [
    {
     "data": {
      "text/html": [
       "<div>\n",
       "<style scoped>\n",
       "    .dataframe tbody tr th:only-of-type {\n",
       "        vertical-align: middle;\n",
       "    }\n",
       "\n",
       "    .dataframe tbody tr th {\n",
       "        vertical-align: top;\n",
       "    }\n",
       "\n",
       "    .dataframe thead th {\n",
       "        text-align: right;\n",
       "    }\n",
       "</style>\n",
       "<table border=\"1\" class=\"dataframe\">\n",
       "  <thead>\n",
       "    <tr style=\"text-align: right;\">\n",
       "      <th></th>\n",
       "      <th>precip</th>\n",
       "      <th>temp_max</th>\n",
       "      <th>temp_min</th>\n",
       "      <th>target</th>\n",
       "      <th>30 day average max</th>\n",
       "      <th>above 30 day average max</th>\n",
       "      <th>max_min_ratio</th>\n",
       "      <th>monthly_avg</th>\n",
       "    </tr>\n",
       "    <tr>\n",
       "      <th>DATE</th>\n",
       "      <th></th>\n",
       "      <th></th>\n",
       "      <th></th>\n",
       "      <th></th>\n",
       "      <th></th>\n",
       "      <th></th>\n",
       "      <th></th>\n",
       "      <th></th>\n",
       "    </tr>\n",
       "  </thead>\n",
       "  <tbody>\n",
       "    <tr>\n",
       "      <th>1998-05-01</th>\n",
       "      <td>0.00</td>\n",
       "      <td>66.0</td>\n",
       "      <td>56.0</td>\n",
       "      <td>70.0</td>\n",
       "      <td>63.966667</td>\n",
       "      <td>0.969192</td>\n",
       "      <td>1.178571</td>\n",
       "      <td>66.000000</td>\n",
       "    </tr>\n",
       "    <tr>\n",
       "      <th>1998-05-02</th>\n",
       "      <td>0.00</td>\n",
       "      <td>70.0</td>\n",
       "      <td>56.0</td>\n",
       "      <td>69.0</td>\n",
       "      <td>64.300000</td>\n",
       "      <td>0.918571</td>\n",
       "      <td>1.250000</td>\n",
       "      <td>68.000000</td>\n",
       "    </tr>\n",
       "    <tr>\n",
       "      <th>1998-05-03</th>\n",
       "      <td>0.00</td>\n",
       "      <td>69.0</td>\n",
       "      <td>59.0</td>\n",
       "      <td>70.0</td>\n",
       "      <td>64.566667</td>\n",
       "      <td>0.935749</td>\n",
       "      <td>1.169492</td>\n",
       "      <td>68.333333</td>\n",
       "    </tr>\n",
       "    <tr>\n",
       "      <th>1998-05-04</th>\n",
       "      <td>0.09</td>\n",
       "      <td>70.0</td>\n",
       "      <td>58.0</td>\n",
       "      <td>66.0</td>\n",
       "      <td>64.900000</td>\n",
       "      <td>0.927143</td>\n",
       "      <td>1.206897</td>\n",
       "      <td>68.750000</td>\n",
       "    </tr>\n",
       "    <tr>\n",
       "      <th>1998-05-05</th>\n",
       "      <td>0.17</td>\n",
       "      <td>66.0</td>\n",
       "      <td>58.0</td>\n",
       "      <td>67.0</td>\n",
       "      <td>65.066667</td>\n",
       "      <td>0.985859</td>\n",
       "      <td>1.137931</td>\n",
       "      <td>68.200000</td>\n",
       "    </tr>\n",
       "    <tr>\n",
       "      <th>...</th>\n",
       "      <td>...</td>\n",
       "      <td>...</td>\n",
       "      <td>...</td>\n",
       "      <td>...</td>\n",
       "      <td>...</td>\n",
       "      <td>...</td>\n",
       "      <td>...</td>\n",
       "      <td>...</td>\n",
       "    </tr>\n",
       "    <tr>\n",
       "      <th>2023-03-28</th>\n",
       "      <td>0.00</td>\n",
       "      <td>66.0</td>\n",
       "      <td>49.0</td>\n",
       "      <td>56.0</td>\n",
       "      <td>60.700000</td>\n",
       "      <td>0.919697</td>\n",
       "      <td>1.346939</td>\n",
       "      <td>64.567358</td>\n",
       "    </tr>\n",
       "    <tr>\n",
       "      <th>2023-03-29</th>\n",
       "      <td>0.22</td>\n",
       "      <td>56.0</td>\n",
       "      <td>50.0</td>\n",
       "      <td>59.0</td>\n",
       "      <td>60.666667</td>\n",
       "      <td>1.083333</td>\n",
       "      <td>1.120000</td>\n",
       "      <td>64.556274</td>\n",
       "    </tr>\n",
       "    <tr>\n",
       "      <th>2023-03-30</th>\n",
       "      <td>0.38</td>\n",
       "      <td>59.0</td>\n",
       "      <td>48.0</td>\n",
       "      <td>62.0</td>\n",
       "      <td>60.733333</td>\n",
       "      <td>1.029379</td>\n",
       "      <td>1.229167</td>\n",
       "      <td>64.549096</td>\n",
       "    </tr>\n",
       "    <tr>\n",
       "      <th>2023-03-31</th>\n",
       "      <td>0.00</td>\n",
       "      <td>62.0</td>\n",
       "      <td>47.0</td>\n",
       "      <td>63.0</td>\n",
       "      <td>61.033333</td>\n",
       "      <td>0.984409</td>\n",
       "      <td>1.319149</td>\n",
       "      <td>64.545806</td>\n",
       "    </tr>\n",
       "    <tr>\n",
       "      <th>2023-04-01</th>\n",
       "      <td>0.00</td>\n",
       "      <td>63.0</td>\n",
       "      <td>46.0</td>\n",
       "      <td>60.0</td>\n",
       "      <td>61.233333</td>\n",
       "      <td>0.971958</td>\n",
       "      <td>1.369565</td>\n",
       "      <td>66.361997</td>\n",
       "    </tr>\n",
       "  </tbody>\n",
       "</table>\n",
       "<p>9100 rows × 8 columns</p>\n",
       "</div>"
      ],
      "text/plain": [
       "            precip  temp_max  temp_min  target  30 day average max  \\\n",
       "DATE                                                                 \n",
       "1998-05-01    0.00      66.0      56.0    70.0           63.966667   \n",
       "1998-05-02    0.00      70.0      56.0    69.0           64.300000   \n",
       "1998-05-03    0.00      69.0      59.0    70.0           64.566667   \n",
       "1998-05-04    0.09      70.0      58.0    66.0           64.900000   \n",
       "1998-05-05    0.17      66.0      58.0    67.0           65.066667   \n",
       "...            ...       ...       ...     ...                 ...   \n",
       "2023-03-28    0.00      66.0      49.0    56.0           60.700000   \n",
       "2023-03-29    0.22      56.0      50.0    59.0           60.666667   \n",
       "2023-03-30    0.38      59.0      48.0    62.0           60.733333   \n",
       "2023-03-31    0.00      62.0      47.0    63.0           61.033333   \n",
       "2023-04-01    0.00      63.0      46.0    60.0           61.233333   \n",
       "\n",
       "            above 30 day average max  max_min_ratio  monthly_avg  \n",
       "DATE                                                              \n",
       "1998-05-01                  0.969192       1.178571    66.000000  \n",
       "1998-05-02                  0.918571       1.250000    68.000000  \n",
       "1998-05-03                  0.935749       1.169492    68.333333  \n",
       "1998-05-04                  0.927143       1.206897    68.750000  \n",
       "1998-05-05                  0.985859       1.137931    68.200000  \n",
       "...                              ...            ...          ...  \n",
       "2023-03-28                  0.919697       1.346939    64.567358  \n",
       "2023-03-29                  1.083333       1.120000    64.556274  \n",
       "2023-03-30                  1.029379       1.229167    64.549096  \n",
       "2023-03-31                  0.984409       1.319149    64.545806  \n",
       "2023-04-01                  0.971958       1.369565    66.361997  \n",
       "\n",
       "[9100 rows x 8 columns]"
      ]
     },
     "execution_count": 48,
     "metadata": {},
     "output_type": "execute_result"
    }
   ],
   "source": [
    "core"
   ]
  },
  {
   "cell_type": "code",
   "execution_count": 49,
   "id": "a46a60af",
   "metadata": {},
   "outputs": [],
   "source": [
    "core['day_of_year_avg'] = core['temp_max'].groupby(core.index.day_of_year).apply(lambda x: x.expanding(1).mean())"
   ]
  },
  {
   "cell_type": "markdown",
   "id": "87349809",
   "metadata": {},
   "source": [
    "This gives us the average temperature of that day in the year"
   ]
  },
  {
   "cell_type": "markdown",
   "id": "85d1333b",
   "metadata": {},
   "source": [
    "Update the predictors"
   ]
  },
  {
   "cell_type": "code",
   "execution_count": 50,
   "id": "95692a86",
   "metadata": {},
   "outputs": [],
   "source": [
    "predictors = ['precip', 'temp_max', 'temp_min', '30 day average max', 'above 30 day average max','max_min_ratio', 'day_of_year_avg', 'monthly_avg']"
   ]
  },
  {
   "cell_type": "code",
   "execution_count": 51,
   "id": "f884dc43",
   "metadata": {},
   "outputs": [],
   "source": [
    "error, combined = create_predictions(predictors, core, reg)"
   ]
  },
  {
   "cell_type": "code",
   "execution_count": 52,
   "id": "556f164b",
   "metadata": {},
   "outputs": [
    {
     "data": {
      "text/plain": [
       "3.194412950894392"
      ]
     },
     "execution_count": 52,
     "metadata": {},
     "output_type": "execute_result"
    }
   ],
   "source": [
    "error"
   ]
  },
  {
   "cell_type": "markdown",
   "id": "eaefb58a",
   "metadata": {},
   "source": [
    "This actually made things worse, 3.19 now vs 3.12 prior"
   ]
  },
  {
   "cell_type": "markdown",
   "id": "544ddcf9",
   "metadata": {},
   "source": [
    "Lets see which variables are being used vs which ones not"
   ]
  },
  {
   "cell_type": "code",
   "execution_count": 53,
   "id": "f31e7c17",
   "metadata": {},
   "outputs": [
    {
     "data": {
      "text/plain": [
       "['precip',\n",
       " 'temp_max',\n",
       " 'temp_min',\n",
       " '30 day average max',\n",
       " 'above 30 day average max',\n",
       " 'max_min_ratio',\n",
       " 'day_of_year_avg',\n",
       " 'monthly_avg']"
      ]
     },
     "execution_count": 53,
     "metadata": {},
     "output_type": "execute_result"
    }
   ],
   "source": [
    "predictors"
   ]
  },
  {
   "cell_type": "code",
   "execution_count": 54,
   "id": "e48c267b",
   "metadata": {},
   "outputs": [
    {
     "data": {
      "text/plain": [
       "array([-2.08937777,  0.55728144, -0.03081455,  0.19272553, -9.96034226,\n",
       "        0.05613604,  0.05957828,  0.20939596])"
      ]
     },
     "execution_count": 54,
     "metadata": {},
     "output_type": "execute_result"
    }
   ],
   "source": [
    "reg.coef_"
   ]
  },
  {
   "cell_type": "markdown",
   "id": "84fecb05",
   "metadata": {},
   "source": [
    "Lets see what is corr now to see if the predictors that we are passing in are actually making sense"
   ]
  },
  {
   "cell_type": "code",
   "execution_count": 55,
   "id": "c2126ffd",
   "metadata": {},
   "outputs": [
    {
     "data": {
      "text/plain": [
       "precip                     -0.213685\n",
       "temp_max                    0.807201\n",
       "temp_min                    0.564734\n",
       "target                      1.000000\n",
       "30 day average max          0.586475\n",
       "above 30 day average max   -0.527511\n",
       "max_min_ratio              -0.015780\n",
       "monthly_avg                 0.587829\n",
       "day_of_year_avg             0.630520\n",
       "Name: target, dtype: float64"
      ]
     },
     "execution_count": 55,
     "metadata": {},
     "output_type": "execute_result"
    }
   ],
   "source": [
    "core.corr()['target']"
   ]
  },
  {
   "cell_type": "markdown",
   "id": "ecaa2c98",
   "metadata": {},
   "source": [
    "look at the differences in absolute terms of actual vs predictions"
   ]
  },
  {
   "cell_type": "code",
   "execution_count": 56,
   "id": "564b4662",
   "metadata": {},
   "outputs": [],
   "source": [
    "combined['diff'] = (combined['actual'] - combined['predictions']).abs()"
   ]
  },
  {
   "cell_type": "code",
   "execution_count": 57,
   "id": "6bec3ab1",
   "metadata": {},
   "outputs": [
    {
     "data": {
      "text/plain": [
       "DATE\n",
       "2023-02-10    12.227517\n",
       "2023-02-08    10.142716\n",
       "2023-01-11    10.048776\n",
       "2023-03-28     9.987523\n",
       "2023-01-13     9.815444\n",
       "Name: diff, dtype: float64"
      ]
     },
     "execution_count": 57,
     "metadata": {},
     "output_type": "execute_result"
    }
   ],
   "source": [
    "combined['diff'].sort_values(ascending=False).head()"
   ]
  },
  {
   "cell_type": "markdown",
   "id": "6235da2c",
   "metadata": {},
   "source": [
    "These are the biggest errors of the predictions"
   ]
  },
  {
   "cell_type": "code",
   "execution_count": 58,
   "id": "7c2bf094",
   "metadata": {},
   "outputs": [
    {
     "name": "stdout",
     "output_type": "stream",
     "text": [
      "Object `something` not found.\n"
     ]
    }
   ],
   "source": [
    "Why did this happen? Am i missing something?"
   ]
  },
  {
   "cell_type": "code",
   "execution_count": null,
   "id": "405210a0",
   "metadata": {},
   "outputs": [],
   "source": [
    "Why did this happen? Am i missing something"
   ]
  },
  {
   "cell_type": "markdown",
   "id": "72430d48",
   "metadata": {},
   "source": [
    "Lot more next steps:\n",
    "\n",
    "- Predict weather for entire week vs just today\n",
    "- predict weather using another weather station\n",
    "- use more predictors\n",
    "- create more predictors \n",
    "- try different algorithms\n",
    "- create predictions for many different years"
   ]
  },
  {
   "cell_type": "code",
   "execution_count": null,
   "id": "b9183a5d",
   "metadata": {},
   "outputs": [],
   "source": []
  }
 ],
 "metadata": {
  "kernelspec": {
   "display_name": "Python 3 (ipykernel)",
   "language": "python",
   "name": "python3"
  },
  "language_info": {
   "codemirror_mode": {
    "name": "ipython",
    "version": 3
   },
   "file_extension": ".py",
   "mimetype": "text/x-python",
   "name": "python",
   "nbconvert_exporter": "python",
   "pygments_lexer": "ipython3",
   "version": "3.9.12"
  }
 },
 "nbformat": 4,
 "nbformat_minor": 5
}
